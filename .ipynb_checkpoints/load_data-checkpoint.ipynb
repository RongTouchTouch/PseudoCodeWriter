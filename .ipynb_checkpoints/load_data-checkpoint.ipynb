{
 "cells": [
  {
   "cell_type": "code",
   "execution_count": 1,
   "metadata": {},
   "outputs": [
    {
     "name": "stdout",
     "output_type": "stream",
     "text": [
      "Better speed can be achieved with apex installed from https://www.github.com/nvidia/apex.\n"
     ]
    },
    {
     "name": "stderr",
     "output_type": "stream",
     "text": [
      "usage: ipykernel_launcher.py [-h] [-model MODEL] [-esz ESZ] [-hsz HSZ]\n",
      "                             [-layers LAYERS] [-drop DROP]\n",
      "                             [-blockdrop BLOCKDROP] [-embdrop EMBDROP]\n",
      "                             [-gdrop GDROP] [-prop PROP]\n",
      "                             [-attnheads ATTNHEADS] [-notitle]\n",
      "                             [-elmoVocab ELMOVOCAB] [-elmo] [-heads HEADS]\n",
      "                             [-cl CL] [-bsz BSZ] [-vbsz VBSZ] [-epochs EPOCHS]\n",
      "                             [-clip CLIP] [-lr LR] [-lrhigh LRHIGH]\n",
      "                             [-lrstep LRSTEP] [-lrwarm] [-lrdecay]\n",
      "                             [-max_grad_norm MAX_GRAD_NORM] [-nosave] -save\n",
      "                             SAVE [-outunk OUTUNK] [-entunk ENTUNK]\n",
      "                             [-datadir DATADIR] [-data DATA]\n",
      "                             [-relvocab RELVOCAB] [-savevocab SAVEVOCAB]\n",
      "                             [-loadvocab LOADVOCAB] [-eval] [-max MAX] [-test]\n",
      "                             [-sample] [-inputs INPUTS] [-t1size T1SIZE]\n",
      "                             [-t2size T2SIZE] [-t3size T3SIZE] [-sparse]\n",
      "                             [-plan] [-title] [-ckpt CKPT]\n",
      "                             [-plweight PLWEIGHT] [-entdetach] [-gpu GPU]\n",
      "ipykernel_launcher.py: error: the following arguments are required: -save\n"
     ]
    },
    {
     "ename": "SystemExit",
     "evalue": "2",
     "output_type": "error",
     "traceback": [
      "An exception has occurred, use %tb to see the full traceback.\n",
      "\u001b[1;31mSystemExit\u001b[0m\u001b[1;31m:\u001b[0m 2\n"
     ]
    },
    {
     "name": "stderr",
     "output_type": "stream",
     "text": [
      "C:\\Users\\Dell\\Anaconda3\\lib\\site-packages\\IPython\\core\\interactiveshell.py:3275: UserWarning: To exit: use 'exit', 'quit', or Ctrl-D.\n",
      "  warn(\"To exit: use 'exit', 'quit', or Ctrl-D.\", stacklevel=1)\n"
     ]
    }
   ],
   "source": [
    "import torch\n",
    "import argparse\n",
    "from time import time\n",
    "from lastDataset import dataset\n",
    "from models.newmodel import model \n",
    "from pargs import pargs,dynArgs\n",
    "\n",
    "\n",
    "args = pargs()\n",
    "# args.eval = True\n",
    "ds = dataset(args)\n",
    "args = dynArgs(args,ds)"
   ]
  },
  {
   "cell_type": "code",
   "execution_count": null,
   "metadata": {},
   "outputs": [],
   "source": []
  }
 ],
 "metadata": {
  "kernelspec": {
   "display_name": "Python 3",
   "language": "python",
   "name": "python3"
  },
  "language_info": {
   "codemirror_mode": {
    "name": "ipython",
    "version": 3
   },
   "file_extension": ".py",
   "mimetype": "text/x-python",
   "name": "python",
   "nbconvert_exporter": "python",
   "pygments_lexer": "ipython3",
   "version": "3.7.1"
  }
 },
 "nbformat": 4,
 "nbformat_minor": 1
}
